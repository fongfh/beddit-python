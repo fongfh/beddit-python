{
 "metadata": {
  "name": "BedditAPI"
 }, 
 "nbformat": 2, 
 "worksheets": [
  {
   "cells": [
    {
     "cell_type": "code", 
     "collapsed": true, 
     "input": [
      "import requests", 
      "import sys", 
      "import logging", 
      "import json", 
      "import random", 
      "import datetime", 
      "import time", 
      "import numpy as np", 
      "import numpy.lib.recfunctions as recfunctions"
     ], 
     "language": "python", 
     "outputs": [], 
     "prompt_number": 1
    }, 
    {
     "cell_type": "code", 
     "collapsed": true, 
     "input": [
      "username = \"projectfla1\"", 
      "password = \"\"", 
      "logindata = {'username': username, 'password': password}"
     ], 
     "language": "python", 
     "outputs": [], 
     "prompt_number": 2
    }, 
    {
     "cell_type": "code", 
     "collapsed": true, 
     "input": [
      "# http://stackoverflow.com/questions/1254454/fastest-way-to-convert-a-dicts-keys-values-from-unicode-to-str", 
      "def convert_keys_to_string(dictionary):", 
      "    \"\"\"Recursively converts dictionary keys to strings.\"\"\"", 
      "    if not isinstance(dictionary, dict):", 
      "        return dictionary", 
      "    return dict((str(k), convert_keys_to_string(v)) ", 
      "        for k, v in dictionary.items())", 
      "    ", 
      "class Beddit:", 
      "    APIBASE = 'https://api.beddit.com/api2/'", 
      "    JSON_HEADER = {'content-type': 'application/json'}", 
      "    ", 
      "    def __init__(self, username, password):", 
      "        self.logindata = {'username': username, 'password': password}", 
      "        self.s = False", 
      "        self.users = False            ", 
      "    ", 
      "    def _checkUsername(self, username):", 
      "        if not username and not self.users:", 
      "            raise Exception('No valid users have been retrieved.  Check the output of getUsers() and retry')", 
      "            return False", 
      "        elif not username:", 
      "            return self.users[0]['username']", 
      "        return str(username)", 
      "    ", 
      "    def _parseJSONResponse(self, response):", 
      "        if response.status_code != 200:", 
      "            return False", 
      "        ret = False", 
      "        try:", 
      "            ret = response.json()", 
      "        except JSONDecodeError as e:", 
      "            pass", 
      "        return ret", 
      "    ", 
      "    def login(self):", 
      "        self.s = requests.Session()", 
      "        r = self.s.post('https://api.beddit.com/login', data=self.logindata, allow_redirects=False)", 
      "        if not 'set-cookie' in r.headers or r.headers['set-cookie'].find('appsessionid') < 0:", 
      "            return False", 
      "        # Populate list of users as a convinient to later method calls", 
      "        self.getUsers()", 
      "        return True", 
      "    ", 
      "    def getUsers(self):", 
      "        r = self.s.get(Beddit.APIBASE+'user')", 
      "        if r.status_code != 200:", 
      "            return False", 
      "        try:", 
      "            self.users = r.json()", 
      "        except JSONDecodeError as e:", 
      "            self.users = False", 
      "        return self.users   ", 
      "    ", 
      "    def getUserInfo(self, username=False):", 
      "        username = self._checkUsername(username)", 
      "        r = self.s.get(Beddit.APIBASE+'user/'+username)", 
      "        return self._parseJSONResponse(r)", 
      "    ", 
      "    def updateUserInfo(self, updatedDict, username=False):", 
      "        username = self._checkUsername(username)", 
      "        # NOTE - we're not checking the dict data is valid - letting the API handle that.", 
      "        r = self.s.put(Beddit.APIBASE+'user/'+username, headers=Beddit.JSON_HEADER, data=json.dumps(updatedDict))", 
      "        return self._parseJSONResponse(r)", 
      "    ", 
      "    def getDeviceInfo(self, username=False):", 
      "        username = self._checkUsername(username)", 
      "        r = self.s.get(Beddit.APIBASE+'user/'+username+'/device')", 
      "        return self._parseJSONResponse(r)", 
      "    ", 
      "    # Not implementing the device POST and DELETE methods - don't have enough beddits to test", 
      "    # also somewhat hesitant to offer ability to DELETE a device and drop all of a users data...", 
      "    ", 
      "    def getNights(self, startDate=datetime.date(2000,1, 1), endDate=datetime.date.fromtimestamp(time.time()), username=False):", 
      "        username = self._checkUsername(username)", 
      "        if not (type(startDate) == datetime.date or type(startDate) == datetime.datetime):", 
      "            raise Exception('startDate must be a datetime.date or datetime.datetime object')", 
      "            return False", 
      "        if not (type(endDate) == datetime.date or type(startDate) == datetime.datetime):", 
      "            raise Exception('startDate must be a datetime.date or datetime.datetime object')", 
      "            return False", 
      "        r = self.s.get(Beddit.APIBASE+'user/'+username+'/timeline?start=%04d-%02d-%02d&end=%04d-%02d-%02d' %", 
      "                       (startDate.year, startDate.month, startDate.day,", 
      "                        endDate.year, endDate.month, endDate.day))", 
      "        return self._parseJSONResponse(r)   ", 
      "    ", 
      "    def getDetailedInfo(self, date=datetime.date.fromtimestamp(time.time()), username=False, numpy=False, useDates=True):", 
      "        username = self._checkUsername(username)", 
      "        if not (type(date) == datetime.date or type(date) == datetime.datetime):", 
      "            raise Exception('date must be a datetime.date or datetime.datetime object')", 
      "            return False", 
      "        r = self.s.get(Beddit.APIBASE+'user/'+username+'/%04d/%02d/%02d/sleep' %", 
      "                       (date.year, date.month, date.day))", 
      "        data = self._parseJSONResponse(r)", 
      "        if not data or not numpy:", 
      "            return data", 
      "        import numpy as np", 
      "        start = np.datetime64(data['local_start_time'])", 
      "        # recreate the actigram data as a numpy array", 
      "        # numpy refuses to make a recarray in-place if the data is a list of lists...  \u0ca0_\u0ca0", 
      "        # so we need to re-create the dataset as a list of tuples.", 
      "        actigram = []", 
      "        for i in range(0, len(data['minutely_actigram'])):", 
      "            activity.append((start+(np.timedelta64(i*60)), data['minutely_actigram'][i] ))", 
      "        activity = np.array(activity, dtype=np.dtype([('time', 'datetime64[s]'),('activity', '<i4')]))", 
      "        # recreate the noise data as a numpy array", 
      "        noise = []", 
      "        for row in data['noise_measurements'][0]:", 
      "            noise.append(( np.datetime64(row[0]), row[1] ))", 
      "        noise = np.array(noise, dtype=np.dtype([('time', 'datetime64[s]'),('noise', '<f8')]))", 
      "        # recreate the luminosity data as a numpy array", 
      "        luminosity = []", 
      "        for row in data['luminosity_measurements']:", 
      "            luminosity.append(( np.datetime64(row[0]), row[1] ))", 
      "        luminosity = np.array(luminosity, dtype=np.dtype([('time', 'datetime64[s]'),('light', '<f8')]))", 
      "        # recreate the sleep stage data as a numpy array", 
      "        stages = []", 
      "        for row in data['sleep_stages']:", 
      "            stages.append(( np.datetime64(row[0]), row[1] ))", 
      "        stages = np.array(stages, dtype=np.dtype([('time', 'datetime64[s]'),('stage', '|U1')]))", 
      "        # recreate the heart rate data as a numpy array", 
      "        heart_rate = []", 
      "        for chunk in data['averaged_heart_rate_curve']:", 
      "            for row in chunk:", 
      "                heart_rate.append(( np.datetime64(row[0]), row[1]))", 
      "        heart_rate = np.array(heart_rate, dtype=np.dtype([('time', 'datetime64[s]'), ('heart_rate', '<f64')]))", 
      "        ", 
      "    ", 
      "    def getDetailedInfoRaw(self, date=datetime.date.fromtimestamp(time.time()), username=False, numpy=False, useDates=True):", 
      "        username = self._checkUsername(username)", 
      "        if not (type(date) == datetime.date or type(date) == datetime.datetime):", 
      "            raise Exception('date must be a datetime.date or datetime.datetime object')", 
      "            return False", 
      "        r = self.s.get(Beddit.APIBASE+'user/'+username+'/%04d/%02d/%02d/sleep' %", 
      "                       (date.year, date.month, date.day))", 
      "        return r"
     ], 
     "language": "python", 
     "outputs": [], 
     "prompt_number": 3
    }, 
    {
     "cell_type": "code", 
     "collapsed": false, 
     "input": [
      "logging.basicConfig()", 
      "logging.getLogger().setLevel(logging.DEBUG)", 
      "b = Beddit(username, password)", 
      "if not b.login():", 
      "    raise Exception('Unable to login')", 
      "#print b.getUsers()", 
      "#print b.getUserInfo()['height']", 
      "#b.updateUserInfo({'height': random.randint(160,180)})", 
      "#print b.getUserInfo()['height']", 
      "#print b.getDeviceInfo()", 
      "#print b.getNights()", 
      "ret = b.getDetailedInfoRaw()", 
      "#print ret['resting_heartrate']"
     ], 
     "language": "python", 
     "outputs": [
      {
       "output_type": "stream", 
       "stream": "stderr", 
       "text": [
        "INFO:requests.packages.urllib3.connectionpool:Starting new HTTPS connection (1): api.beddit.com"
       ]
      }, 
      {
       "output_type": "stream", 
       "stream": "stderr", 
       "text": [
        "DEBUG:requests.packages.urllib3.connectionpool:Setting read timeout to None"
       ]
      }, 
      {
       "output_type": "stream", 
       "stream": "stderr", 
       "text": [
        "DEBUG:requests.packages.urllib3.connectionpool:\"POST /login HTTP/1.1\" 302 20"
       ]
      }, 
      {
       "output_type": "stream", 
       "stream": "stderr", 
       "text": [
        "DEBUG:requests.packages.urllib3.connectionpool:Setting read timeout to None"
       ]
      }, 
      {
       "output_type": "stream", 
       "stream": "stderr", 
       "text": [
        "DEBUG:requests.packages.urllib3.connectionpool:\"GET /api2/user HTTP/1.1\" 200 None"
       ]
      }, 
      {
       "output_type": "stream", 
       "stream": "stderr", 
       "text": [
        "DEBUG:requests.packages.urllib3.connectionpool:Setting read timeout to None"
       ]
      }, 
      {
       "output_type": "stream", 
       "stream": "stderr", 
       "text": [
        "DEBUG:requests.packages.urllib3.connectionpool:\"GET /api2/user/projectfla1/2013/10/14/sleep HTTP/1.1\" 200 None"
       ]
      }
     ], 
     "prompt_number": 4
    }, 
    {
     "cell_type": "code", 
     "collapsed": true, 
     "input": [
      "data = ret.json()"
     ], 
     "language": "python", 
     "outputs": [], 
     "prompt_number": 5
    }, 
    {
     "cell_type": "code", 
     "collapsed": false, 
     "input": [
      "max = 0", 
      "maxidx = 0", 
      "for i in range(0, len(data['minutely_heart_rate_histogram'])):", 
      "    minute = data['minutely_heart_rate_histogram'][i]", 
      "    sum = 0", 
      "    for bin in minute:", 
      "        sum += bin", 
      "    if sum > max:", 
      "        max = sum", 
      "        maxidx = i"
     ], 
     "language": "python", 
     "outputs": [], 
     "prompt_number": 6
    }, 
    {
     "cell_type": "code", 
     "collapsed": false, 
     "input": [
      "histdata = data['minutely_heart_rate_histogram'][426]", 
      "print histdata", 
      "print data['minutely_heart_rate_histogram_y_edges']"
     ], 
     "language": "python", 
     "outputs": [
      {
       "output_type": "stream", 
       "stream": "stdout", 
       "text": [
        "[0, 0, 0, 0, 0, 0, 10, 18, 21, 11, 1, 0, 0, 0, 0, 0, 0, 0, 0, 0, 0, 0, 0, 0, 0, 0, 0, 0, 0, 0, 0]", 
        "[40.0, 42.5, 45.0, 47.5, 50.0, 52.5, 55.0, 57.5, 60.0, 62.5, 65.0, 67.5, 70.0, 72.5, 75.0, 77.5, 80.0, 82.5, 85.0, 87.5, 90.0, 92.5, 95.0, 97.5, 100.0, 102.5, 105.0, 107.5, 110.0, 112.5, 115.0, 117.5]"
       ]
      }
     ], 
     "prompt_number": 15
    }, 
    {
     "cell_type": "code", 
     "collapsed": false, 
     "input": [
      "from matplotlib.pyplot import *", 
      "bar(data['minutely_heart_rate_histogram_y_edges'][:-1], histdata, width=2.5)"
     ], 
     "language": "python", 
     "outputs": [
      {
       "output_type": "pyout", 
       "prompt_number": 16, 
       "text": [
        "<Container object of 31 artists>"
       ]
      }, 
      {
       "output_type": "display_data", 
       "png": "[encoded data removed]"
      }
     ], 
     "prompt_number": 16
    }, 
    {
     "cell_type": "code", 
     "collapsed": false, 
     "input": [
      "len(data['minutely_heart_rate_histogram'])"
     ], 
     "language": "python", 
     "outputs": [
      {
       "output_type": "pyout", 
       "prompt_number": 17, 
       "text": [
        "1084"
       ]
      }
     ], 
     "prompt_number": 17
    }, 
    {
     "cell_type": "code", 
     "collapsed": false, 
     "input": [
      "len(data['minutely_actigram'])"
     ], 
     "language": "python", 
     "outputs": [
      {
       "output_type": "pyout", 
       "prompt_number": 19, 
       "text": [
        "1084"
       ]
      }
     ], 
     "prompt_number": 19
    }, 
    {
     "cell_type": "code", 
     "collapsed": false, 
     "input": [
      "from mpl_toolkits.mplot3d import Axes3D"
     ], 
     "language": "python", 
     "outputs": [], 
     "prompt_number": 20
    }, 
    {
     "cell_type": "code", 
     "collapsed": false, 
     "input": [
      "fig = figure()", 
      "ax = fig.add_subplot(111, projection='3d')", 
      "for i in range(400, 550):", 
      "    minute = data['minutely_heart_rate_histogram'][i]", 
      "    ax.bar(data['minutely_heart_rate_histogram_y_edges'][:-1], minute, zs=i, zdir='y')"
     ], 
     "language": "python", 
     "outputs": [
      {
       "output_type": "display_data", 
       "png": "[encoded data removed]"
      }
     ], 
     "prompt_number": 30
    }, 
    {
     "cell_type": "code", 
     "collapsed": false, 
     "input": [
      "range(400,450)"
     ], 
     "language": "python", 
     "outputs": [
      {
       "output_type": "pyout", 
       "prompt_number": 26, 
       "text": [
        "[400,", 
        " 401,", 
        " 402,", 
        " 403,", 
        " 404,", 
        " 405,", 
        " 406,", 
        " 407,", 
        " 408,", 
        " 409,", 
        " 410,", 
        " 411,", 
        " 412,", 
        " 413,", 
        " 414,", 
        " 415,", 
        " 416,", 
        " 417,", 
        " 418,", 
        " 419,", 
        " 420,", 
        " 421,", 
        " 422,", 
        " 423,", 
        " 424,", 
        " 425,", 
        " 426,", 
        " 427,", 
        " 428,", 
        " 429,", 
        " 430,", 
        " 431,", 
        " 432,", 
        " 433,", 
        " 434,", 
        " 435,", 
        " 436,", 
        " 437,", 
        " 438,", 
        " 439,", 
        " 440,", 
        " 441,", 
        " 442,", 
        " 443,", 
        " 444,", 
        " 445,", 
        " 446,", 
        " 447,", 
        " 448,", 
        " 449]"
       ]
      }
     ], 
     "prompt_number": 26
    }, 
    {
     "cell_type": "code", 
     "collapsed": true, 
     "input": [], 
     "language": "python", 
     "outputs": []
    }
   ]
  }
 ]
}
